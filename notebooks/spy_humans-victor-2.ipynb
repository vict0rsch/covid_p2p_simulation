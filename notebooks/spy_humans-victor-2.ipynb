{
 "cells": [
  {
   "cell_type": "code",
   "execution_count": 11,
   "metadata": {},
   "outputs": [],
   "source": [
    "import covid19sim\n",
    "import pandas as pd\n",
    "import numpy as np\n",
    "import dill\n",
    "from collections import defaultdict\n",
    "import datetime\n",
    "import matplotlib\n",
    "import matplotlib.pyplot as plt\n",
    "import pdb\n",
    "%matplotlib inline"
   ]
  },
  {
   "cell_type": "code",
   "execution_count": 12,
   "metadata": {},
   "outputs": [],
   "source": [
    "filename = \"/Users/victor/Downloads/tracker_data_n_200_seed_0_20200508-114548_.pkl\""
   ]
  },
  {
   "cell_type": "code",
   "execution_count": 13,
   "metadata": {},
   "outputs": [],
   "source": [
    "data = dill.load(open(filename,\"rb\"))"
   ]
  },
  {
   "cell_type": "code",
   "execution_count": 14,
   "metadata": {},
   "outputs": [],
   "source": [
    "def load_humans(data):\n",
    "    humans = {}\n",
    "    for i in data['human_monitor'].keys():\n",
    "        row = defaultdict(list)\n",
    "        for c,j in enumerate(data['human_monitor'][i]):\n",
    "            for k in j.keys():\n",
    "                row[k].append(j[k])\n",
    "\n",
    "        # index = (timestamp, attr)\n",
    "        for k in row.keys():\n",
    "            humans[(i,k)] = row[k]\n",
    "\n",
    "    humans = pd.DataFrame.from_dict(humans, orient=\"index\")\n",
    "    humans.index = pd.MultiIndex.from_tuples(humans.index)\n",
    "    return humans\n"
   ]
  },
  {
   "cell_type": "markdown",
   "metadata": {},
   "source": [
    "### Select chain of infections to track\n",
    "Use `data['infection_monitor']` to select the chain of infections. If A infected B, B infected C. Note their numbers."
   ]
  },
  {
   "cell_type": "code",
   "execution_count": 15,
   "metadata": {},
   "outputs": [],
   "source": [
    "humans = load_humans(data)\n",
    "infection_chain = data['infection_monitor']\n",
    "infector_infectee_update_messages = data['infector_infectee_update_messages']"
   ]
  },
  {
   "cell_type": "code",
   "execution_count": 16,
   "metadata": {},
   "outputs": [],
   "source": [
    "def _color_cell(val):\n",
    "    val = int(val.split()[0].split(\":\")[-1])\n",
    "    \n",
    "    color = \"white\"\n",
    "    if val == 0:\n",
    "        color = \"#b3e8a6\"#\"green\"\n",
    "    elif val == 1:\n",
    "        color = \"#ffde22\" #\"yellow\"\n",
    "    elif val == 2:\n",
    "        color = \"#ff8928\" #\"orange\"\n",
    "    elif val == 3:\n",
    "        color = \"#f0aea3\" # \"red\"\n",
    "    return f\"background-color: {color}\"\n",
    "\n",
    "\n",
    "def _color_cell_raw(val):\n",
    "    color = \"white\"\n",
    "    if val == \"positive\":\n",
    "        color = \"red\"\n",
    "    return f\"background-color: {color}\"\n",
    "\n",
    "# format the content of a cell\n",
    "def summarize(x):\n",
    "    risk_levels = x.xs('risk_level', level=1)\n",
    "    rec_levels = x.xs('rec_level', level=1)\n",
    "    test_results = x.xs('test_result', level=1)\n",
    "    n_symptoms = x.xs('n_symptoms', level=1)\n",
    "    infection_timestamp = x.xs('infection_timestamp', level=1)\n",
    "    risks = x.xs('risk', level=1)\n",
    "    \n",
    "    columns = risk_levels.columns\n",
    "    y = pd.DataFrame(columns=columns, index=x.index.unique(level=0))\n",
    "    pdb.set_trace()\n",
    "    today = x.index.unique(level=0).item().date()\n",
    "    max_risk_level = -1\n",
    "    for idx in range(len(columns)):\n",
    "        infector_column = columns[idx] # infector\n",
    "        RL = risk_levels[infector_column].item()\n",
    "        Rec = rec_levels[infector_column].item()\n",
    "        test = test_results[infector_column].item()\n",
    "        symptoms = n_symptoms[infector_column].item()\n",
    "        \n",
    "        cell = f\"Rec:{Rec} R:{RL}\"\n",
    "    \n",
    "        if max_risk_level>=0:\n",
    "            # use the carried message here\n",
    "            cell += f\" M:{max_risk_level}\"\n",
    "\n",
    "        if test == \"positive\":\n",
    "            cell += f\"  Test:+\"\n",
    "        elif test == \"negative\":\n",
    "            cell += \"  Test:-\"\n",
    "        \n",
    "        if symptoms > 0:\n",
    "            cell += f\"  S:{symptoms}\"\n",
    "        \n",
    "        infectors_infection_timestamp = infection_timestamp[infector_column].item()\n",
    "        if infectors_infection_timestamp and infectors_infection_timestamp.date() == today:\n",
    "            cell += ' \\u2623 \\u2623 \\u2623 \\u2623'\n",
    "        \n",
    "        # arrows\n",
    "        if idx+1 < len(columns):\n",
    "            infectee_column = columns[idx+1]\n",
    "            next_infection_timestamp = infection_timestamp[infectee_column].item()\n",
    "\n",
    "            if next_infection_timestamp is not None:\n",
    "#                 # infection arrow\n",
    "#                 if next_infection_timestamp.date() == today:\n",
    "#                     cell += ' \\u2623 \\u2623 \\u2623 \\u2623' # \\u21e8 hollow arrow ; \\u2b95 for solid arrow\n",
    "        \n",
    "                # update messages arrow\n",
    "                infector_name = f\"human:{infector_column+1}\"\n",
    "                infectee_nam = f\"human:{infectee_column+1}\"\n",
    "                messages = infector_infectee_update_messages[infector_name][infectee_name]\n",
    "                max_risk_level = -1\n",
    "                for timestamp, risk_l in messages.items():\n",
    "                    if timestamp.date() == today:\n",
    "                        cell += ' \\u2709'\n",
    "                        max_risk_level = max(max_risk_level, risk_l)\n",
    "\n",
    "                # content of the message (can be more than one in a single day)\n",
    "                # carry max_risk_level for the next person in the chain\n",
    "                # no need to do anything here\n",
    "        \n",
    "        \n",
    "        y[infector_column] = cell\n",
    "    \n",
    "    y.reset_index(drop=True, inplace=True)\n",
    "    return y\n",
    "    \n",
    "def spy(ids):\n",
    "    ids = [x-1 for x in ids]\n",
    "    pd.set_option('display.max_rows', None)\n",
    "    df = humans.loc[(slice(None), (\"infection_timestamp\",\"risk\", \"test_result\", \"n_symptoms\", \"risk_level\", \"rec_level\")), ids]\n",
    "    df = df.style.applymap(_color_cell_raw)\n",
    "    return df\n",
    "\n",
    "def spy_pro(ids):\n",
    "    ids = [x-1 for x in ids]\n",
    "    df = humans.loc[(slice(None), (\"infection_timestamp\", \"risk\", \"test_result\", \"n_symptoms\", \"risk_level\", \"rec_level\")), ids]\n",
    "\n",
    "    # display until here\n",
    "    notnull = pd.notnull(df[ids[-1]].unstack().infection_timestamp)\n",
    "    last_index = notnull[::-1].idxmax() + datetime.timedelta(days=2)\n",
    "\n",
    "    df = df.groupby(level=0, axis=0).apply(lambda x: summarize(x))\n",
    "    df.reset_index(level=1, drop=True, inplace=True)\n",
    "    df.index = df.index.date\n",
    "    df = df[df.index <= last_index]\n",
    "\n",
    "    df.columns = [f\"human:{x+1}\" for x in df.columns]\n",
    "    df = df.style.applymap(_color_cell).set_properties(**{\"font-weight\":600, \"font-size\": \"150%\", 'border-color': 'black', 'text-align': 'left', 'border': '2px solid #4f2121'})\n",
    "\n",
    "    def remove_rec(x):\n",
    "        return \" \".join(x.split()[1:])\n",
    "\n",
    "    df.format(remove_rec)\n",
    "\n",
    "    # bells and whistles\n",
    "    def hover(hover_color=\"#ffff99\"):\n",
    "        return dict(selector=\"tr:hover\",\n",
    "                    props=[(\"background-color\", \"%s\" % hover_color)])\n",
    "\n",
    "    styles = [\n",
    "        hover(),\n",
    "        dict(selector=\"th\", props=[(\"font-size\", \"150%\"),\n",
    "                                   (\"text-align\", \"center\")]),\n",
    "        dict(selector=\"caption\", props=[(\"caption-side\", \"bottom\"), (\"font-size\", \"150%\"), (\"font-weight\", 600)])\n",
    "    ]\n",
    "\n",
    "    df = df.set_table_styles(styles).set_caption(\"Risk Propagation among individuals in a chain\")\n",
    "    return df"
   ]
  },
  {
   "cell_type": "code",
   "execution_count": 17,
   "metadata": {},
   "outputs": [],
   "source": [
    "# get chains\n",
    "import random\n",
    "\n",
    "def get_random_chain(infection_chain):\n",
    "    start = random.choice(range(len(infection_chain)))\n",
    "    \n",
    "    # location contamination\n",
    "    if not infection_chain[start][0]:\n",
    "        return get_random_chain(infection_chain)\n",
    "    \n",
    "    infector_chain = []\n",
    "    infector_chain.append(infection_chain[start][0])\n",
    "    infectee = infection_chain[start][1]\n",
    "    for idx in range(start+1, len(infection_chain)):\n",
    "        if infection_chain[idx][0] == infectee:\n",
    "            infector_chain.append(infectee)\n",
    "            infectee = infection_chain[idx][1]\n",
    "\n",
    "    if len(infector_chain) < 3:\n",
    "        return get_random_chain(infection_chain)\n",
    "    \n",
    "    return [int(x.split(\":\")[-1]) for x in infector_chain]\n",
    "         "
   ]
  },
  {
   "cell_type": "code",
   "execution_count": null,
   "metadata": {},
   "outputs": [
    {
     "name": "stdout",
     "output_type": "stream",
     "text": [
      "> <ipython-input-16-441e18e524a7>(34)summarize()\n",
      "-> today = x.index.unique(level=0).item().date()\n",
      "(Pdb) today\n",
      "*** NameError: name 'today' is not defined\n",
      "(Pdb) x.index.unique(level=0).item()\n"
     ]
    },
    {
     "name": "stderr",
     "output_type": "stream",
     "text": [
      "/Users/victor/.pyenv/versions/3.7.4/lib/python3.7/site-packages/ipykernel_launcher.py:1: FutureWarning: `item` has been deprecated and will be removed in a future version\n",
      "  \"\"\"Entry point for launching an IPython kernel.\n"
     ]
    },
    {
     "name": "stdout",
     "output_type": "stream",
     "text": [
      "1582848000000000000\n",
      "(Pdb) datetime.from_timestamp\n",
      "*** AttributeError: module 'datetime' has no attribute 'from_timestamp'\n",
      "(Pdb) datetime.fromtimestamp(1582848000000000000)\n",
      "*** AttributeError: module 'datetime' has no attribute 'fromtimestamp'\n",
      "(Pdb) import datetime as dt\n",
      "(Pdb) dt.fromtimestamp(timestamp)\n",
      "*** AttributeError: module 'datetime' has no attribute 'fromtimestamp'\n",
      "(Pdb) datetime.datetime.fromstimestamp(1582848000000000000)\n",
      "*** AttributeError: type object 'datetime.datetime' has no attribute 'fromstimestamp'\n",
      "(Pdb) import datetime\n",
      "(Pdb) datetime.datetime.fromtimestamp(1582848000000000000 / 1e3)\n",
      "*** ValueError: year 50160426 is out of range\n",
      "(Pdb) x.index.unique(level=0)\n",
      "DatetimeIndex(['2020-02-28'], dtype='datetime64[ns]', freq=None)\n",
      "(Pdb) x.index.unique(level=0).date()\n",
      "*** TypeError: 'numpy.ndarray' object is not callable\n",
      "(Pdb) dir(x.index.unique(level=0))\n",
      "['T', '__abs__', '__add__', '__and__', '__array__', '__array_priority__', '__array_wrap__', '__bool__', '__class__', '__contains__', '__copy__', '__deepcopy__', '__delattr__', '__dict__', '__dir__', '__divmod__', '__doc__', '__eq__', '__floordiv__', '__format__', '__ge__', '__getattribute__', '__getitem__', '__gt__', '__hash__', '__iadd__', '__init__', '__init_subclass__', '__inv__', '__iter__', '__le__', '__len__', '__lt__', '__mod__', '__module__', '__mul__', '__ne__', '__neg__', '__new__', '__nonzero__', '__or__', '__pos__', '__pow__', '__radd__', '__reduce__', '__reduce_ex__', '__repr__', '__rfloordiv__', '__rmul__', '__rpow__', '__rsub__', '__rtruediv__', '__setattr__', '__setitem__', '__setstate__', '__sizeof__', '__str__', '__sub__', '__subclasshook__', '__truediv__', '__weakref__', '__xor__', '_accessors', '_add_arithmetic_ops', '_add_comparison_methods', '_add_comparison_ops', '_add_datetimelike_methods', '_add_delegate_accessors', '_add_logical_methods', '_add_logical_methods_disabled', '_add_numeric_methods', '_add_numeric_methods_add_sub_disabled', '_add_numeric_methods_binary', '_add_numeric_methods_disabled', '_add_numeric_methods_unary', '_assert_can_do_op', '_assert_can_do_setop', '_assert_safe_casting', '_assert_take_fillable', '_attributes', '_bool_ops', '_box_func', '_box_values', '_can_fast_union', '_can_hold_identifiers_and_holds_name', '_can_hold_na', '_can_reindex', '_cleanup', '_coerce_scalar_to_index', '_coerce_to_ndarray', '_comparables', '_concat', '_concat_same_dtype', '_constructor', '_convert_arr_indexer', '_convert_can_do_setop', '_convert_for_op', '_convert_index_indexer', '_convert_list_indexer', '_convert_listlike_indexer', '_convert_scalar_indexer', '_convert_slice_indexer', '_convert_tolerance', '_create_comparison_method', '_data', '_datetimelike_methods', '_datetimelike_ops', '_default_dtype', '_defer_to_indexing', '_delegate_class', '_delegate_method', '_delegate_property_get', '_delegate_property_set', '_delegated_methods', '_delegated_properties', '_deprecations', '_dir_additions', '_dir_deletions', '_engine', '_engine_type', '_ensure_localized', '_evaluate_with_datetime_like', '_evaluate_with_timedelta_like', '_extra_methods', '_extra_raw_methods', '_extra_raw_properties', '_fast_union', '_field_ops', '_filter_indexer_tolerance', '_format_attrs', '_format_data', '_format_native_types', '_format_space', '_format_with_header', '_formatter_func', '_freq', '_get_attributes_dict', '_get_fill_indexer', '_get_fill_indexer_searchsorted', '_get_grouper_for_level', '_get_level_number', '_get_level_values', '_get_names', '_get_nearest_indexer', '_get_reconciled_name_object', '_get_string_slice', '_get_time_micros', '_get_unique_index', '_has_complex_internals', '_has_same_tz', '_hasnans', '_id', '_infer_as_myclass', '_inner_indexer', '_internal_get_values', '_invalid_indexer', '_is_compatible_with_other', '_is_dates_only', '_is_homogeneous_type', '_is_memory_usage_qualified', '_is_monotonic_decreasing', '_is_monotonic_increasing', '_is_numeric_dtype', '_is_strictly_monotonic_decreasing', '_is_strictly_monotonic_increasing', '_is_unique', '_isnan', '_join_i8_wrapper', '_join_level', '_join_monotonic', '_join_multi', '_join_non_unique', '_join_precedence', '_left_indexer', '_left_indexer_unique', '_local_timestamps', '_map_values', '_maybe_cast_indexer', '_maybe_cast_slice_bound', '_maybe_mask_results', '_maybe_promote', '_maybe_update_attributes', '_maybe_utc_convert', '_mpl_repr', '_na_value', '_nan_idxs', '_ndarray_values', '_object_ops', '_outer_indexer', '_parsed_string_to_bounds', '_partial_date_slice', '_raw_methods', '_raw_properties', '_reduce', '_reindex_non_unique', '_reset_cache', '_reset_identity', '_resolution', '_scalar_data_error', '_searchsorted_monotonic', '_set_names', '_shallow_copy', '_shallow_copy_with_infer', '_simple_new', '_sort_levels_monotonic', '_string_data_error', '_summary', '_timezone', '_to_safe_for_reshape', '_try_convert_to_int_index', '_typ', '_tz', '_union', '_union_incompatible_dtypes', '_unpickle_compat', '_update_inplace', '_validate_for_numeric_binop', '_validate_for_numeric_unaryop', '_validate_index_level', '_validate_indexer', '_validate_names', '_validate_sort_keyword', '_values', '_wrap_joined_index', '_wrap_setop_result', 'all', 'any', 'append', 'argmax', 'argmin', 'argsort', 'array', 'asi8', 'asof', 'asof_locs', 'astype', 'ceil', 'contains', 'copy', 'date', 'day', 'day_name', 'dayofweek', 'dayofyear', 'days_in_month', 'daysinmonth', 'delete', 'difference', 'drop', 'drop_duplicates', 'droplevel', 'dropna', 'dtype', 'dtype_str', 'duplicated', 'empty', 'equals', 'factorize', 'fillna', 'floor', 'format', 'freq', 'freqstr', 'get_duplicates', 'get_indexer', 'get_indexer_for', 'get_indexer_non_unique', 'get_level_values', 'get_loc', 'get_slice_bound', 'get_value', 'get_value_maybe_box', 'get_values', 'groupby', 'has_duplicates', 'hasnans', 'holds_integer', 'hour', 'identical', 'indexer_at_time', 'indexer_between_time', 'inferred_freq', 'inferred_type', 'insert', 'intersection', 'is_', 'is_all_dates', 'is_boolean', 'is_categorical', 'is_floating', 'is_integer', 'is_interval', 'is_leap_year', 'is_lexsorted_for_tuple', 'is_mixed', 'is_monotonic', 'is_monotonic_decreasing', 'is_monotonic_increasing', 'is_month_end', 'is_month_start', 'is_normalized', 'is_numeric', 'is_object', 'is_quarter_end', 'is_quarter_start', 'is_type_compatible', 'is_unique', 'is_year_end', 'is_year_start', 'isin', 'isna', 'isnull', 'item', 'join', 'map', 'max', 'mean', 'memory_usage', 'microsecond', 'min', 'minute', 'month', 'month_name', 'name', 'names', 'nanosecond', 'nbytes', 'ndim', 'nlevels', 'normalize', 'notna', 'notnull', 'nunique', 'offset', 'putmask', 'quarter', 'ravel', 'reindex', 'rename', 'repeat', 'resolution', 'round', 'searchsorted', 'second', 'set_names', 'set_value', 'shape', 'shift', 'size', 'slice_indexer', 'slice_locs', 'snap', 'sort', 'sort_values', 'sortlevel', 'strftime', 'summary', 'symmetric_difference', 'take', 'time', 'timetz', 'to_flat_index', 'to_frame', 'to_julian_date', 'to_list', 'to_native_types', 'to_numpy', 'to_period', 'to_perioddelta', 'to_pydatetime', 'to_series', 'transpose', 'tz', 'tz_convert', 'tz_localize', 'tzinfo', 'union', 'union_many', 'unique', 'value_counts', 'values', 'view', 'week', 'weekday', 'weekday_name', 'weekofyear', 'where', 'year']\n",
      "(Pdb) x.index.unique(level=0).item()\n",
      "1582848000000000000\n",
      "(Pdb) datetime.datetime.fromtimestamp(1582848000000000000 / 1e3)\n",
      "*** ValueError: year 50160426 is out of range\n",
      "(Pdb) datetime.datetime.fromtimestamp(1582848000000000000 / 1e6)\n",
      "*** ValueError: year 52128 is out of range\n",
      "(Pdb) datetime.datetime.fromtimestamp(1582848000000000000 / 1e8)\n",
      "datetime.datetime(2471, 8, 1, 20, 0)\n",
      "(Pdb) datetime.datetime.fromtimestamp(1582848000000000000 / 1e9)\n",
      "datetime.datetime(2020, 2, 27, 19, 0)\n"
     ]
    }
   ],
   "source": [
    "#from IPython.display import HTML\n",
    "ids = get_random_chain(infection_chain)\n",
    "df = spy_pro(ids)"
   ]
  },
  {
   "cell_type": "code",
   "execution_count": 9,
   "metadata": {},
   "outputs": [
    {
     "ename": "NameError",
     "evalue": "name 'df' is not defined",
     "output_type": "error",
     "traceback": [
      "\u001b[0;31m---------------------------------------------------------------------------\u001b[0m",
      "\u001b[0;31mNameError\u001b[0m                                 Traceback (most recent call last)",
      "\u001b[0;32m<ipython-input-9-00cf07b74dcd>\u001b[0m in \u001b[0;36m<module>\u001b[0;34m\u001b[0m\n\u001b[0;32m----> 1\u001b[0;31m \u001b[0mdf\u001b[0m\u001b[0;34m\u001b[0m\u001b[0;34m\u001b[0m\u001b[0m\n\u001b[0m",
      "\u001b[0;31mNameError\u001b[0m: name 'df' is not defined"
     ]
    }
   ],
   "source": [
    "df"
   ]
  },
  {
   "cell_type": "markdown",
   "metadata": {},
   "source": [
    "### plot risk trajectory of people until they are deemed positive\n",
    "once someone is positive, the risk only goes to 1.0 and then 0.0 when it recovers"
   ]
  },
  {
   "cell_type": "code",
   "execution_count": 8,
   "metadata": {},
   "outputs": [],
   "source": [
    "import seaborn as sns\n",
    "NUM_COLORS = 100\n",
    "\n",
    "def plot_risk_trajectory(ids):\n",
    "    def direction():\n",
    "        x = random.random() < 0.5 \n",
    "        return 2 * x - 1\n",
    "    \n",
    "    ids = [x-1 for x in ids]\n",
    "    \n",
    "    sns.reset_orig()  # get default matplotlib styles back\n",
    "    colormap = sns.color_palette(\"Set2\", NUM_COLORS)\n",
    "    # risk scores\n",
    "    df = humans.loc[(slice(None), (\"risk\")), ids]\n",
    "    # df.replace(0, np.nan, inplace=True)\n",
    "    df = df.unstack().reset_index(drop=True)\n",
    "    df.columns = df.columns.droplevel(level=1)\n",
    "\n",
    "    # infection time\n",
    "    df_i = humans.loc[(slice(None), (\"infection_timestamp\")), ids]\n",
    "    df_i.index = df_i.index.droplevel(level=1)\n",
    "    df_i = df_i.reset_index(drop=True)\n",
    "\n",
    "    idx = 0\n",
    "    annotations = []\n",
    "    for id in ids[1:]:\n",
    "        x = [x for x in df_i[id].unique() if x][0]\n",
    "        infection_day = df_i[id][df_i[id] == x].index[0]\n",
    "        infector = ids[idx]\n",
    "        infection_risk = df[infector][infection_day]\n",
    "        infectee = id\n",
    "        annotations.append([infection_day, infection_risk, f\"{infector+1} -> {infectee+1}\", colormap[idx+1]])    \n",
    "        idx += 1\n",
    "\n",
    "    df.columns = [f\"human:{x+1}\" for x in df.columns]\n",
    "    ax = df.plot(figsize=(15,10), color=colormap)\n",
    "    for x in annotations:\n",
    "        if x[2]:\n",
    "            ax.annotate(f\"{str(x[2])}\", xy=(x[0], x[1]), xytext=(x[0] + 2*direction(), x[1]+ 0.05*direction()), size=15, color=x[3], arrowprops=dict(arrowstyle=\"->\",\n",
    "                                connectionstyle=\"arc3\"))\n",
    "\n",
    "    ax.set_title(\"Risk Trajectory & Risk @ Contagion\", size=25)\n",
    "    ax.grid(b=True, axis='x', alpha=0.6, which=\"major\")\n",
    "    ax.minorticks_on()\n",
    "    ax.grid(which='minor', linestyle=':', linewidth='0.5', color='black', axis='x', alpha=0.3)\n",
    "    ax.grid(True, axis='y', alpha=0.3)\n",
    "\n",
    "    ax.legend(prop={\"size\":20}, loc=\"upper left\")\n",
    "    ax.tick_params(labelsize=25)\n",
    "    plt.xlabel(\"Days since outbreak\", fontsize=30)\n",
    "    plt.ylabel(\"Risk\", fontsize=30)\n",
    "    fig = ax.get_figure()\n",
    "\n",
    "    return fig"
   ]
  },
  {
   "cell_type": "code",
   "execution_count": 9,
   "metadata": {},
   "outputs": [
    {
     "ename": "NameError",
     "evalue": "name 'infection_chain' is not defined",
     "output_type": "error",
     "traceback": [
      "\u001b[0;31m---------------------------------------------------------------------------\u001b[0m",
      "\u001b[0;31mNameError\u001b[0m                                 Traceback (most recent call last)",
      "\u001b[0;32m<ipython-input-9-68c8f968363a>\u001b[0m in \u001b[0;36m<module>\u001b[0;34m\u001b[0m\n\u001b[0;32m----> 1\u001b[0;31m \u001b[0mids\u001b[0m \u001b[0;34m=\u001b[0m \u001b[0mget_random_chain\u001b[0m\u001b[0;34m(\u001b[0m\u001b[0minfection_chain\u001b[0m\u001b[0;34m)\u001b[0m\u001b[0;34m\u001b[0m\u001b[0;34m\u001b[0m\u001b[0m\n\u001b[0m",
      "\u001b[0;31mNameError\u001b[0m: name 'infection_chain' is not defined"
     ]
    }
   ],
   "source": [
    "ids = get_random_chain(infection_chain)"
   ]
  },
  {
   "cell_type": "code",
   "execution_count": null,
   "metadata": {},
   "outputs": [],
   "source": [
    "fig = plot_risk_trajectory(ids)"
   ]
  },
  {
   "cell_type": "markdown",
   "metadata": {},
   "source": [
    "### Save figures for many_eyes"
   ]
  },
  {
   "cell_type": "code",
   "execution_count": 54,
   "metadata": {},
   "outputs": [
    {
     "name": "stderr",
     "output_type": "stream",
     "text": [
      "/network/home/guptapra/.local/lib/python3.7/site-packages/pandas/plotting/_matplotlib/core.py:320: RuntimeWarning: More than 20 figures have been opened. Figures created through the pyplot interface (`matplotlib.pyplot.figure`) are retained until explicitly closed and may consume too much memory. (To control this warning, see the rcParam `figure.max_open_warning`).\n",
      "  fig = self.plt.figure(figsize=self.figsize)\n",
      "/network/home/guptapra/.local/lib/python3.7/site-packages/pandas/plotting/_matplotlib/core.py:320: RuntimeWarning: More than 20 figures have been opened. Figures created through the pyplot interface (`matplotlib.pyplot.figure`) are retained until explicitly closed and may consume too much memory. (To control this warning, see the rcParam `figure.max_open_warning`).\n",
      "  fig = self.plt.figure(figsize=self.figsize)\n",
      "/network/home/guptapra/.local/lib/python3.7/site-packages/pandas/plotting/_matplotlib/core.py:320: RuntimeWarning: More than 20 figures have been opened. Figures created through the pyplot interface (`matplotlib.pyplot.figure`) are retained until explicitly closed and may consume too much memory. (To control this warning, see the rcParam `figure.max_open_warning`).\n",
      "  fig = self.plt.figure(figsize=self.figsize)\n",
      "/network/home/guptapra/.local/lib/python3.7/site-packages/pandas/plotting/_matplotlib/core.py:320: RuntimeWarning: More than 20 figures have been opened. Figures created through the pyplot interface (`matplotlib.pyplot.figure`) are retained until explicitly closed and may consume too much memory. (To control this warning, see the rcParam `figure.max_open_warning`).\n",
      "  fig = self.plt.figure(figsize=self.figsize)\n",
      "/network/home/guptapra/.local/lib/python3.7/site-packages/pandas/plotting/_matplotlib/core.py:320: RuntimeWarning: More than 20 figures have been opened. Figures created through the pyplot interface (`matplotlib.pyplot.figure`) are retained until explicitly closed and may consume too much memory. (To control this warning, see the rcParam `figure.max_open_warning`).\n",
      "  fig = self.plt.figure(figsize=self.figsize)\n",
      "/network/home/guptapra/.local/lib/python3.7/site-packages/pandas/plotting/_matplotlib/core.py:320: RuntimeWarning: More than 20 figures have been opened. Figures created through the pyplot interface (`matplotlib.pyplot.figure`) are retained until explicitly closed and may consume too much memory. (To control this warning, see the rcParam `figure.max_open_warning`).\n",
      "  fig = self.plt.figure(figsize=self.figsize)\n",
      "/network/home/guptapra/.local/lib/python3.7/site-packages/pandas/plotting/_matplotlib/core.py:320: RuntimeWarning: More than 20 figures have been opened. Figures created through the pyplot interface (`matplotlib.pyplot.figure`) are retained until explicitly closed and may consume too much memory. (To control this warning, see the rcParam `figure.max_open_warning`).\n",
      "  fig = self.plt.figure(figsize=self.figsize)\n",
      "/network/home/guptapra/.local/lib/python3.7/site-packages/pandas/plotting/_matplotlib/core.py:320: RuntimeWarning: More than 20 figures have been opened. Figures created through the pyplot interface (`matplotlib.pyplot.figure`) are retained until explicitly closed and may consume too much memory. (To control this warning, see the rcParam `figure.max_open_warning`).\n",
      "  fig = self.plt.figure(figsize=self.figsize)\n",
      "/network/home/guptapra/.local/lib/python3.7/site-packages/pandas/plotting/_matplotlib/core.py:320: RuntimeWarning: More than 20 figures have been opened. Figures created through the pyplot interface (`matplotlib.pyplot.figure`) are retained until explicitly closed and may consume too much memory. (To control this warning, see the rcParam `figure.max_open_warning`).\n",
      "  fig = self.plt.figure(figsize=self.figsize)\n",
      "/network/home/guptapra/.local/lib/python3.7/site-packages/pandas/plotting/_matplotlib/core.py:320: RuntimeWarning: More than 20 figures have been opened. Figures created through the pyplot interface (`matplotlib.pyplot.figure`) are retained until explicitly closed and may consume too much memory. (To control this warning, see the rcParam `figure.max_open_warning`).\n",
      "  fig = self.plt.figure(figsize=self.figsize)\n"
     ]
    }
   ],
   "source": [
    "subdir=\"transformer-v0\"\n",
    "dir = f\"many_eyes/1K-May7/{subdir}\"\n",
    "filename = \"../src/covid19sim/logs2/tracker_data_n_1000_seed_0_20200507-034359_90_transformer.pkl\"\n",
    "data = dill.load(open(filename,\"rb\"))\n",
    "\n",
    "humans = load_humans(data)\n",
    "infection_chain = data['infection_monitor']\n",
    "infector_infectee_update_messages = data['infector_infectee_update_messages']\n",
    "\n",
    "with open(f\"{dir}/README.md\", \"w\") as f:\n",
    "    f.write(\"Click to view the image - \\n\\n\")\n",
    "    \n",
    "for i in range(10):\n",
    "    ids = get_random_chain(infection_chain)\n",
    "    df = spy_pro(ids)\n",
    "    \n",
    "    html = df.render()\n",
    "    with open(f\"{dir}/tabular_chain-{i}.html\", \"w\") as f:\n",
    "        f.write(html)\n",
    "        \n",
    "    fig = plot_risk_trajectory(ids)\n",
    "    fig.savefig(f\"{dir}/risk_trajectory-{i}.png\")\n",
    "    \n",
    "    with open(f\"{dir}/README.md\", \"a\") as f:\n",
    "        url = \"https://htmlpreview.github.io/?\"\n",
    "        url += \"https://github.com/pg2455/covid_p2p_simulation/blob/recommendations/notebooks/many_eyes/\"\n",
    "        url += f\"1K-May7/{subdir}/tabular_chain-{i}.html\"\n",
    "        f.write(url + \"\\n\\n\")\n"
   ]
  },
  {
   "cell_type": "code",
   "execution_count": null,
   "metadata": {},
   "outputs": [],
   "source": []
  }
 ],
 "metadata": {
  "kernelspec": {
   "display_name": "Python 3",
   "language": "python",
   "name": "python3"
  },
  "language_info": {
   "codemirror_mode": {
    "name": "ipython",
    "version": 3
   },
   "file_extension": ".py",
   "mimetype": "text/x-python",
   "name": "python",
   "nbconvert_exporter": "python",
   "pygments_lexer": "ipython3",
   "version": "3.7.4"
  }
 },
 "nbformat": 4,
 "nbformat_minor": 4
}
